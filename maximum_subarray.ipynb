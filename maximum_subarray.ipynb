{
  "nbformat": 4,
  "nbformat_minor": 0,
  "metadata": {
    "colab": {
      "provenance": [],
      "authorship_tag": "ABX9TyN+slQFHkl3u1hc0Pw8Lw95",
      "include_colab_link": true
    },
    "kernelspec": {
      "name": "python3",
      "display_name": "Python 3"
    },
    "language_info": {
      "name": "python"
    }
  },
  "cells": [
    {
      "cell_type": "markdown",
      "metadata": {
        "id": "view-in-github",
        "colab_type": "text"
      },
      "source": [
        "<a href=\"https://colab.research.google.com/github/bharaniakella/God_mode_on/blob/main/maximum_subarray.ipynb\" target=\"_parent\"><img src=\"https://colab.research.google.com/assets/colab-badge.svg\" alt=\"Open In Colab\"/></a>"
      ]
    },
    {
      "cell_type": "code",
      "execution_count": null,
      "metadata": {
        "id": "VvuNZ7CpZxCC"
      },
      "outputs": [],
      "source": [
        "class Solution(object):\n",
        "    def maxSubArray(self, nums):\n",
        "        \"\"\"\n",
        "        :type nums: List[int]\n",
        "        :rtype: int\n",
        "        \"\"\"\n",
        "        sum=0\n",
        "        msa_total=nums[0]\n",
        "\n",
        "        for i in range(len(nums)):\n",
        "            if(sum<0):\n",
        "                sum=0\n",
        "            sum=sum+nums[i]\n",
        "            msa_total=max(msa_total,sum)\n",
        "        return msa_total\n",
        "\n",
        ""
      ]
    }
  ]
}