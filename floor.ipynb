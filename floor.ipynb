{
  "nbformat": 4,
  "nbformat_minor": 0,
  "metadata": {
    "colab": {
      "provenance": [],
      "authorship_tag": "ABX9TyMYoh7U6sUnYq8qB8JthMoc",
      "include_colab_link": true
    },
    "kernelspec": {
      "name": "python3",
      "display_name": "Python 3"
    },
    "language_info": {
      "name": "python"
    }
  },
  "cells": [
    {
      "cell_type": "markdown",
      "metadata": {
        "id": "view-in-github",
        "colab_type": "text"
      },
      "source": [
        "<a href=\"https://colab.research.google.com/github/bharaniakella/God_mode_on/blob/main/floor.ipynb\" target=\"_parent\"><img src=\"https://colab.research.google.com/assets/colab-badge.svg\" alt=\"Open In Colab\"/></a>"
      ]
    },
    {
      "cell_type": "code",
      "execution_count": 8,
      "metadata": {
        "id": "gGZEzlrJknx5"
      },
      "outputs": [],
      "source": [
        "import numpy as np\n",
        "\n",
        "arr=np.array([3,5,8,9,15,19])"
      ]
    },
    {
      "cell_type": "code",
      "source": [
        "def floor(arr,target):\n",
        "  low=0\n",
        "  high=len(arr)-1\n",
        "  result=-1\n",
        "  while(low<=high):\n",
        "    mid=high-(high-low)//2\n",
        "    if(arr[mid]<=target):\n",
        "      result=arr[mid]\n",
        "      low=mid+1\n",
        "    else:\n",
        "      high=mid-1\n",
        "  return result\n"
      ],
      "metadata": {
        "id": "lLsiVi39l5V3"
      },
      "execution_count": 9,
      "outputs": []
    },
    {
      "cell_type": "code",
      "source": [
        "floor(arr,2)"
      ],
      "metadata": {
        "colab": {
          "base_uri": "https://localhost:8080/"
        },
        "id": "twudhr04nHCU",
        "outputId": "1c7519b8-6dd2-4b11-b41b-d3ebd3183a79"
      },
      "execution_count": 10,
      "outputs": [
        {
          "output_type": "execute_result",
          "data": {
            "text/plain": [
              "-1"
            ]
          },
          "metadata": {},
          "execution_count": 10
        }
      ]
    },
    {
      "cell_type": "code",
      "source": [],
      "metadata": {
        "id": "EL5KgTFBnI0z"
      },
      "execution_count": null,
      "outputs": []
    }
  ]
}