{
  "nbformat": 4,
  "nbformat_minor": 0,
  "metadata": {
    "colab": {
      "provenance": [],
      "authorship_tag": "ABX9TyPAhiYNuWTCHfOIS1Z7Cx2a",
      "include_colab_link": true
    },
    "kernelspec": {
      "name": "python3",
      "display_name": "Python 3"
    },
    "language_info": {
      "name": "python"
    }
  },
  "cells": [
    {
      "cell_type": "markdown",
      "metadata": {
        "id": "view-in-github",
        "colab_type": "text"
      },
      "source": [
        "<a href=\"https://colab.research.google.com/github/bharaniakella/God_mode_on/blob/main/n0_of_times_array_rotated.ipynb\" target=\"_parent\"><img src=\"https://colab.research.google.com/assets/colab-badge.svg\" alt=\"Open In Colab\"/></a>"
      ]
    },
    {
      "cell_type": "code",
      "execution_count": 1,
      "metadata": {
        "id": "Q1ZQ6kHdZuCz"
      },
      "outputs": [],
      "source": [
        "import numpy as np\n",
        "\n",
        "arr=np.array([4,5,6,7,0,1,2,3])"
      ]
    },
    {
      "cell_type": "code",
      "source": [
        "def rotate(arr):\n",
        "  low=0\n",
        "  high=len(arr)-1\n",
        "  ans=float('infinity')\n",
        "  index=-1\n",
        "  while(low<=high):\n",
        "    mid=(high+low)//2\n",
        "    if(arr[low]<=arr[mid]):\n",
        "      if(arr[low]<ans):\n",
        "        index=low\n",
        "        ans=arr[low]\n",
        "      low=mid+1\n",
        "    else:\n",
        "      high=mid-1\n",
        "      if(arr[mid]<ans):\n",
        "        index=mid\n",
        "        ans=arr[mid]\n",
        "\n",
        "  return index"
      ],
      "metadata": {
        "id": "f_IzWrL0Z8-u"
      },
      "execution_count": 10,
      "outputs": []
    },
    {
      "cell_type": "code",
      "source": [
        "rotate(arr)"
      ],
      "metadata": {
        "colab": {
          "base_uri": "https://localhost:8080/"
        },
        "id": "dIBm3DO7amMQ",
        "outputId": "a7ede644-4d0a-4494-eadf-730fc29027a6"
      },
      "execution_count": 11,
      "outputs": [
        {
          "output_type": "execute_result",
          "data": {
            "text/plain": [
              "4"
            ]
          },
          "metadata": {},
          "execution_count": 11
        }
      ]
    },
    {
      "cell_type": "code",
      "source": [],
      "metadata": {
        "id": "p1dQVnJ1anSA"
      },
      "execution_count": null,
      "outputs": []
    }
  ]
}