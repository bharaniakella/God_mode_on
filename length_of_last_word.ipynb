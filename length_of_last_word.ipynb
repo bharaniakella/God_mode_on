{
  "nbformat": 4,
  "nbformat_minor": 0,
  "metadata": {
    "colab": {
      "provenance": [],
      "authorship_tag": "ABX9TyPeZqbYwOZiOKIdHuWWmEpE",
      "include_colab_link": true
    },
    "kernelspec": {
      "name": "python3",
      "display_name": "Python 3"
    },
    "language_info": {
      "name": "python"
    }
  },
  "cells": [
    {
      "cell_type": "markdown",
      "metadata": {
        "id": "view-in-github",
        "colab_type": "text"
      },
      "source": [
        "<a href=\"https://colab.research.google.com/github/bharaniakella/God_mode_on/blob/main/length_of_last_word.ipynb\" target=\"_parent\"><img src=\"https://colab.research.google.com/assets/colab-badge.svg\" alt=\"Open In Colab\"/></a>"
      ]
    },
    {
      "cell_type": "code",
      "source": [
        "class Solution(object):\n",
        "    def lengthOfLastWord(self, s):\n",
        "        \"\"\"\n",
        "        :type s: str\n",
        "        :rtype: int\n",
        "        \"\"\"\n",
        "        i=len(s)-1\n",
        "        length=0\n",
        "\n",
        "        while s[i]==\" \":\n",
        "            i=i-1\n",
        "\n",
        "        while((i>=0) & (s[i]!=\" \")):\n",
        "            length=length+1\n",
        "            i=i-1\n",
        "\n",
        "        return length\n",
        ""
      ],
      "metadata": {
        "id": "s-arhpGdL7vv"
      },
      "execution_count": null,
      "outputs": []
    }
  ]
}