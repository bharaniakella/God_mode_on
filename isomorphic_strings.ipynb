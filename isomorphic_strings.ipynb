{
  "nbformat": 4,
  "nbformat_minor": 0,
  "metadata": {
    "colab": {
      "provenance": [],
      "authorship_tag": "ABX9TyMvqQ31lCt99+CWcZr6IYrz",
      "include_colab_link": true
    },
    "kernelspec": {
      "name": "python3",
      "display_name": "Python 3"
    },
    "language_info": {
      "name": "python"
    }
  },
  "cells": [
    {
      "cell_type": "markdown",
      "metadata": {
        "id": "view-in-github",
        "colab_type": "text"
      },
      "source": [
        "<a href=\"https://colab.research.google.com/github/bharaniakella/God_mode_on/blob/main/isomorphic_strings.ipynb\" target=\"_parent\"><img src=\"https://colab.research.google.com/assets/colab-badge.svg\" alt=\"Open In Colab\"/></a>"
      ]
    },
    {
      "cell_type": "code",
      "execution_count": 1,
      "metadata": {
        "id": "iBWdksPGs-A8"
      },
      "outputs": [],
      "source": [
        "class Solution(object):\n",
        "    def isIsomorphic(self, s, t):\n",
        "        \"\"\"\n",
        "        :type s: str\n",
        "        :type t: str\n",
        "        :rtype: bool\n",
        "        \"\"\"\n",
        "        MapS,MapT={},{}\n",
        "\n",
        "        for i in range(len(s)):\n",
        "            c1=s[i]\n",
        "            c2=t[i]\n",
        "\n",
        "            if((c1 in MapS and MapS[c1]!=c2)or(c2 in MapT and MapT[c2]!=c1)):\n",
        "                return False\n",
        "\n",
        "            MapS[c1]=c2\n",
        "            MapT[c2]=c1\n",
        "\n",
        "        return True\n",
        "\n",
        "\n"
      ]
    },
    {
      "cell_type": "code",
      "source": [],
      "metadata": {
        "id": "CGC7PT4mtBuP"
      },
      "execution_count": null,
      "outputs": []
    }
  ]
}