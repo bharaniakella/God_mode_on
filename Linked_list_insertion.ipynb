{
  "nbformat": 4,
  "nbformat_minor": 0,
  "metadata": {
    "colab": {
      "provenance": [],
      "authorship_tag": "ABX9TyM7v4dKEyAB3bdnBRkwiSsl",
      "include_colab_link": true
    },
    "kernelspec": {
      "name": "python3",
      "display_name": "Python 3"
    },
    "language_info": {
      "name": "python"
    }
  },
  "cells": [
    {
      "cell_type": "markdown",
      "metadata": {
        "id": "view-in-github",
        "colab_type": "text"
      },
      "source": [
        "<a href=\"https://colab.research.google.com/github/bharaniakella/God_mode_on/blob/main/Linked_list_insertion.ipynb\" target=\"_parent\"><img src=\"https://colab.research.google.com/assets/colab-badge.svg\" alt=\"Open In Colab\"/></a>"
      ]
    },
    {
      "cell_type": "code",
      "execution_count": 81,
      "metadata": {
        "id": "Rx8K-PXbxF7I"
      },
      "outputs": [],
      "source": [
        "class Node:\n",
        "  def __init__(self,value):\n",
        "    self.value=value\n",
        "    self.next=None\n",
        "\n",
        "class LinkedList:\n",
        "  def __init__(self,value):\n",
        "    new_node=Node(value)\n",
        "    self.head=new_node\n",
        "    self.tail=new_node\n",
        "    self.length=0\n",
        "\n",
        "  def append(self,value):\n",
        "    new_node=Node(value)\n",
        "    if(self.head==None):\n",
        "      self.head=new_node\n",
        "      self.tail=new_node\n",
        "      self.length=self.length+1\n",
        "    self.tail.next=new_node\n",
        "    self.tail=new_node\n",
        "    self.length=self.length+1\n",
        "    return True\n",
        "\n",
        "  def prepend(self,value):\n",
        "    new_node=Node(value)\n",
        "    if(self.head==None):\n",
        "      self.head=new_node\n",
        "      self.tail=new_node\n",
        "      self.length=self.length+1\n",
        "    new_node.next=self.head\n",
        "    self.head=new_node\n",
        "    self.length=self.length+1\n",
        "    return True\n",
        "\n",
        "  def insert(self,value,position):\n",
        "    new_node=Node(value)\n",
        "    if(self.head==None):\n",
        "      self.head=new_node\n",
        "      self.tail=new_node\n",
        "      self.length=self.length+1\n",
        "    if(position==0):\n",
        "      new_node.next=self.head\n",
        "      self.head=new_node\n",
        "      self.length=self.length+1\n",
        "    elif(position==self.length):\n",
        "      self.tail.next=new_node\n",
        "      self.tail=new_node\n",
        "      self.length=self.length+1\n",
        "    elif((position<0) | (position>self.length)):\n",
        "      print(\"index not present\")\n",
        "      return False\n",
        "    else:\n",
        "      temp=self.head\n",
        "      count=0\n",
        "      while(count<position-1):\n",
        "        temp=temp.next\n",
        "        count=count+1\n",
        "      new_node.next=temp.next\n",
        "      temp.next=new_node\n",
        "      self.length=self.length+1\n",
        "\n",
        "\n",
        "\n",
        "  def print_list(self):\n",
        "    temp=self.head\n",
        "\n",
        "    while(temp is not None):\n",
        "      print(temp.value)\n",
        "      temp=temp.next\n",
        "\n",
        "  def print_length(self):\n",
        "    return self.length"
      ]
    },
    {
      "cell_type": "code",
      "source": [
        "my_ll=LinkedList(5)\n",
        "\n",
        "my_ll.append(6)\n",
        "my_ll.append(7)\n",
        "my_ll.append(8)\n",
        "\n",
        "my_ll.print_list()"
      ],
      "metadata": {
        "colab": {
          "base_uri": "https://localhost:8080/"
        },
        "id": "Ma8SLZ7ayO9J",
        "outputId": "0dacd50d-f857-4807-85b8-313621ef4952"
      },
      "execution_count": 82,
      "outputs": [
        {
          "output_type": "stream",
          "name": "stdout",
          "text": [
            "5\n",
            "6\n",
            "7\n",
            "8\n"
          ]
        }
      ]
    },
    {
      "cell_type": "code",
      "source": [
        "my_ll.prepend(10)\n",
        "my_ll.print_list()"
      ],
      "metadata": {
        "colab": {
          "base_uri": "https://localhost:8080/"
        },
        "id": "LFeMSDSqyp9L",
        "outputId": "1c9d2dd2-9072-4f1b-873a-d52c08c75305"
      },
      "execution_count": 83,
      "outputs": [
        {
          "output_type": "stream",
          "name": "stdout",
          "text": [
            "10\n",
            "5\n",
            "6\n",
            "7\n",
            "8\n"
          ]
        }
      ]
    },
    {
      "cell_type": "code",
      "source": [
        "my_ll.insert(170,0)\n",
        "my_ll.print_list()"
      ],
      "metadata": {
        "colab": {
          "base_uri": "https://localhost:8080/"
        },
        "id": "uY6UJyaT5jqm",
        "outputId": "c4f593c9-a5da-4ca3-c03f-a96689783d94"
      },
      "execution_count": 84,
      "outputs": [
        {
          "output_type": "stream",
          "name": "stdout",
          "text": [
            "170\n",
            "10\n",
            "5\n",
            "6\n",
            "7\n",
            "8\n"
          ]
        }
      ]
    },
    {
      "cell_type": "code",
      "source": [
        "my_ll.insert(180,1)\n",
        "my_ll.print_list()"
      ],
      "metadata": {
        "colab": {
          "base_uri": "https://localhost:8080/"
        },
        "id": "1EkD7z6X9z84",
        "outputId": "d4af51c0-2482-4b51-bb80-1b17a3b8e313"
      },
      "execution_count": 85,
      "outputs": [
        {
          "output_type": "stream",
          "name": "stdout",
          "text": [
            "170\n",
            "180\n",
            "10\n",
            "5\n",
            "6\n",
            "7\n",
            "8\n"
          ]
        }
      ]
    },
    {
      "cell_type": "code",
      "source": [
        "my_ll.insert(280,3)\n",
        "my_ll.print_list()"
      ],
      "metadata": {
        "colab": {
          "base_uri": "https://localhost:8080/"
        },
        "id": "ASMcM_keBFd7",
        "outputId": "eacd77cd-a46a-428c-8c7d-1887bec0ccf0"
      },
      "execution_count": 86,
      "outputs": [
        {
          "output_type": "stream",
          "name": "stdout",
          "text": [
            "170\n",
            "180\n",
            "10\n",
            "280\n",
            "5\n",
            "6\n",
            "7\n",
            "8\n"
          ]
        }
      ]
    }
  ]
}