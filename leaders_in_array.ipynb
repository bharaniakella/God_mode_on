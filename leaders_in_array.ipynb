{
  "nbformat": 4,
  "nbformat_minor": 0,
  "metadata": {
    "colab": {
      "provenance": [],
      "authorship_tag": "ABX9TyOhMQHYpjQ8KTEdePWlhc4a",
      "include_colab_link": true
    },
    "kernelspec": {
      "name": "python3",
      "display_name": "Python 3"
    },
    "language_info": {
      "name": "python"
    }
  },
  "cells": [
    {
      "cell_type": "markdown",
      "metadata": {
        "id": "view-in-github",
        "colab_type": "text"
      },
      "source": [
        "<a href=\"https://colab.research.google.com/github/bharaniakella/God_mode_on/blob/main/leaders_in_array.ipynb\" target=\"_parent\"><img src=\"https://colab.research.google.com/assets/colab-badge.svg\" alt=\"Open In Colab\"/></a>"
      ]
    },
    {
      "cell_type": "code",
      "execution_count": 4,
      "metadata": {
        "id": "iZuJ7pRu2fX_"
      },
      "outputs": [],
      "source": [
        "import numpy as np\n",
        "arr=np.array([9,4, 5,7, 1, 0])"
      ]
    },
    {
      "cell_type": "code",
      "source": [
        "def find_leader(arr):\n",
        "  my_max=float('-infinity')\n",
        "  last=len(arr)-1\n",
        "  leaders=[]\n",
        "  while(last>=0):\n",
        "    if(arr[last]>my_max):\n",
        "      leaders.append(arr[last])\n",
        "      my_max=arr[last]\n",
        "    last=last-1\n",
        "  return leaders\n"
      ],
      "metadata": {
        "id": "QRY3EUe95TZ0"
      },
      "execution_count": 5,
      "outputs": []
    },
    {
      "cell_type": "code",
      "source": [
        "find_leader(arr)"
      ],
      "metadata": {
        "colab": {
          "base_uri": "https://localhost:8080/"
        },
        "id": "zF2eV6uq6S9r",
        "outputId": "f0184c85-12d7-4b50-9392-e99dde2b0cf7"
      },
      "execution_count": 6,
      "outputs": [
        {
          "output_type": "execute_result",
          "data": {
            "text/plain": [
              "[0, 1, 7, 9]"
            ]
          },
          "metadata": {},
          "execution_count": 6
        }
      ]
    },
    {
      "cell_type": "code",
      "source": [],
      "metadata": {
        "id": "JcxlrxiV6UMf"
      },
      "execution_count": null,
      "outputs": []
    }
  ]
}