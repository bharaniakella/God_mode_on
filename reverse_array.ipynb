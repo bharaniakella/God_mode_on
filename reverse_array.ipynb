{
  "nbformat": 4,
  "nbformat_minor": 0,
  "metadata": {
    "colab": {
      "provenance": [],
      "authorship_tag": "ABX9TyO14r7Gg1uG1y+QoYmUG1Y3",
      "include_colab_link": true
    },
    "kernelspec": {
      "name": "python3",
      "display_name": "Python 3"
    },
    "language_info": {
      "name": "python"
    }
  },
  "cells": [
    {
      "cell_type": "markdown",
      "metadata": {
        "id": "view-in-github",
        "colab_type": "text"
      },
      "source": [
        "<a href=\"https://colab.research.google.com/github/bharaniakella/God_mode_on/blob/main/reverse_array.ipynb\" target=\"_parent\"><img src=\"https://colab.research.google.com/assets/colab-badge.svg\" alt=\"Open In Colab\"/></a>"
      ]
    },
    {
      "cell_type": "code",
      "execution_count": 1,
      "metadata": {
        "id": "9IsexYS2zZuS"
      },
      "outputs": [],
      "source": [
        "import numpy as np\n",
        "\n",
        "arr=np.array([10,20,30,40,50])"
      ]
    },
    {
      "cell_type": "code",
      "source": [
        "def reverse_array(arr):\n",
        "  f=0\n",
        "  l=len(arr)-1\n",
        "  while(f<=l):\n",
        "    temp=arr[l]\n",
        "    arr[l]=arr[f]\n",
        "    arr[f]=temp\n",
        "\n",
        "    f=f+1\n",
        "    l=l-1\n",
        "  return arr"
      ],
      "metadata": {
        "id": "GUaEwEYWzhU1"
      },
      "execution_count": 2,
      "outputs": []
    },
    {
      "cell_type": "code",
      "source": [
        "reverse_array(arr)"
      ],
      "metadata": {
        "id": "CBBLaU9s0OiS",
        "outputId": "f1c730ef-488d-40e7-b5e3-7eea319daeb3",
        "colab": {
          "base_uri": "https://localhost:8080/"
        }
      },
      "execution_count": 3,
      "outputs": [
        {
          "output_type": "execute_result",
          "data": {
            "text/plain": [
              "array([50, 40, 30, 20, 10])"
            ]
          },
          "metadata": {},
          "execution_count": 3
        }
      ]
    },
    {
      "cell_type": "code",
      "source": [],
      "metadata": {
        "id": "U1sqcgGK0P2X"
      },
      "execution_count": null,
      "outputs": []
    }
  ]
}