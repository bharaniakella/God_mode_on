{
  "nbformat": 4,
  "nbformat_minor": 0,
  "metadata": {
    "colab": {
      "provenance": [],
      "authorship_tag": "ABX9TyMf7Pb1poZvCk+0tPNo5Me4",
      "include_colab_link": true
    },
    "kernelspec": {
      "name": "python3",
      "display_name": "Python 3"
    },
    "language_info": {
      "name": "python"
    }
  },
  "cells": [
    {
      "cell_type": "markdown",
      "metadata": {
        "id": "view-in-github",
        "colab_type": "text"
      },
      "source": [
        "<a href=\"https://colab.research.google.com/github/bharaniakella/God_mode_on/blob/main/binary_search.ipynb\" target=\"_parent\"><img src=\"https://colab.research.google.com/assets/colab-badge.svg\" alt=\"Open In Colab\"/></a>"
      ]
    },
    {
      "cell_type": "code",
      "execution_count": 9,
      "metadata": {
        "id": "NqBLFgm88PG4"
      },
      "outputs": [],
      "source": [
        "import numpy as np\n",
        "\n",
        "arr=np.array([10,20,30,40,50,60,70])"
      ]
    },
    {
      "cell_type": "code",
      "source": [
        "def bin_search(arr,target):\n",
        "  low=0\n",
        "  high=len(arr)-1\n",
        "  while(low<=high):\n",
        "    mid=high-(high-low)//2\n",
        "    if(target>arr[mid]):\n",
        "      low=mid+1\n",
        "    elif(target<arr[mid]):\n",
        "      high=mid-1\n",
        "    elif(target==arr[mid]):\n",
        "      return mid\n",
        "  return -1"
      ],
      "metadata": {
        "id": "gbQJO9yY8WfB"
      },
      "execution_count": 12,
      "outputs": []
    },
    {
      "cell_type": "code",
      "source": [
        "bin_search(arr,40)"
      ],
      "metadata": {
        "colab": {
          "base_uri": "https://localhost:8080/"
        },
        "id": "F1-vK5cm9f2r",
        "outputId": "3232598f-1311-4a56-ea41-d911672e75e9"
      },
      "execution_count": 16,
      "outputs": [
        {
          "output_type": "execute_result",
          "data": {
            "text/plain": [
              "3"
            ]
          },
          "metadata": {},
          "execution_count": 16
        }
      ]
    },
    {
      "cell_type": "code",
      "source": [],
      "metadata": {
        "id": "Dyb5_bko9lg5"
      },
      "execution_count": null,
      "outputs": []
    }
  ]
}