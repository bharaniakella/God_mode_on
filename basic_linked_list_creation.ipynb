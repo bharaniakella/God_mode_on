{
  "nbformat": 4,
  "nbformat_minor": 0,
  "metadata": {
    "colab": {
      "provenance": [],
      "authorship_tag": "ABX9TyNGIFNVZrQfBcTuJhQMoVgT",
      "include_colab_link": true
    },
    "kernelspec": {
      "name": "python3",
      "display_name": "Python 3"
    },
    "language_info": {
      "name": "python"
    }
  },
  "cells": [
    {
      "cell_type": "markdown",
      "metadata": {
        "id": "view-in-github",
        "colab_type": "text"
      },
      "source": [
        "<a href=\"https://colab.research.google.com/github/bharaniakella/God_mode_on/blob/main/basic_linked_list_creation.ipynb\" target=\"_parent\"><img src=\"https://colab.research.google.com/assets/colab-badge.svg\" alt=\"Open In Colab\"/></a>"
      ]
    },
    {
      "cell_type": "code",
      "execution_count": 2,
      "metadata": {
        "id": "HKjTmfIktUNQ"
      },
      "outputs": [],
      "source": [
        "class Node:\n",
        "  def __init__(self,value):\n",
        "    self.value=value\n",
        "    self.next=None\n",
        "\n",
        "class LinkedList:\n",
        "  def __init__(self,value):\n",
        "    new_node=Node(value)\n",
        "    self.head=new_node\n",
        "    self.tail=new_node"
      ]
    },
    {
      "cell_type": "code",
      "source": [
        "my_ll=LinkedList(4)\n",
        "node2=Node(5)\n",
        "node3=Node(6)\n",
        "node4=Node(7)\n",
        "\n",
        "my_ll.head.next=node2\n",
        "node2.next=node3\n",
        "node3.next=node4"
      ],
      "metadata": {
        "id": "T4xSXaLyt6mQ"
      },
      "execution_count": 5,
      "outputs": []
    },
    {
      "cell_type": "code",
      "source": [
        "temp=my_ll.head\n",
        "while(temp is not None):\n",
        "  print(temp.value)\n",
        "  temp=temp.next"
      ],
      "metadata": {
        "colab": {
          "base_uri": "https://localhost:8080/"
        },
        "id": "WhUomILxuP8u",
        "outputId": "5cfda047-c332-4b18-e6ae-b219fc2a496f"
      },
      "execution_count": 6,
      "outputs": [
        {
          "output_type": "stream",
          "name": "stdout",
          "text": [
            "4\n",
            "5\n",
            "6\n",
            "7\n"
          ]
        }
      ]
    },
    {
      "cell_type": "code",
      "source": [],
      "metadata": {
        "id": "Z5qNIEuJvFAU"
      },
      "execution_count": null,
      "outputs": []
    }
  ]
}