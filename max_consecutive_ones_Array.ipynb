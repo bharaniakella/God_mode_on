{
  "nbformat": 4,
  "nbformat_minor": 0,
  "metadata": {
    "colab": {
      "provenance": [],
      "authorship_tag": "ABX9TyMXT7Nc8tvL5jtH4g//gJ5l",
      "include_colab_link": true
    },
    "kernelspec": {
      "name": "python3",
      "display_name": "Python 3"
    },
    "language_info": {
      "name": "python"
    }
  },
  "cells": [
    {
      "cell_type": "markdown",
      "metadata": {
        "id": "view-in-github",
        "colab_type": "text"
      },
      "source": [
        "<a href=\"https://colab.research.google.com/github/bharaniakella/God_mode_on/blob/main/max_consecutive_ones_Array.ipynb\" target=\"_parent\"><img src=\"https://colab.research.google.com/assets/colab-badge.svg\" alt=\"Open In Colab\"/></a>"
      ]
    },
    {
      "cell_type": "code",
      "execution_count": 4,
      "metadata": {
        "id": "Eo2gNQJjJs5U"
      },
      "outputs": [],
      "source": [
        "import numpy as np\n",
        "\n",
        "arr=np.array([1, 1, 0, 1, 1, 1,0,1])"
      ]
    },
    {
      "cell_type": "code",
      "source": [
        "def max_consec_one(arr):\n",
        "  count=0\n",
        "  final_sum=0\n",
        "\n",
        "  for i in range(len(arr)):\n",
        "    if(arr[i]==1):\n",
        "      count=count+1\n",
        "      final_sum=max(final_sum,count)\n",
        "    elif(arr[i]==0):\n",
        "      count=0\n",
        "\n",
        "  return final_sum"
      ],
      "metadata": {
        "id": "eu-JMSE0J24X"
      },
      "execution_count": 5,
      "outputs": []
    },
    {
      "cell_type": "code",
      "source": [
        "max_consec_one(arr)"
      ],
      "metadata": {
        "colab": {
          "base_uri": "https://localhost:8080/"
        },
        "id": "4SNQQkcjKQuf",
        "outputId": "531ee5d1-8447-4fac-e82f-9b96e335872a"
      },
      "execution_count": 6,
      "outputs": [
        {
          "output_type": "execute_result",
          "data": {
            "text/plain": [
              "3"
            ]
          },
          "metadata": {},
          "execution_count": 6
        }
      ]
    },
    {
      "cell_type": "code",
      "source": [],
      "metadata": {
        "id": "RuH4LdNnKS5h"
      },
      "execution_count": null,
      "outputs": []
    }
  ]
}