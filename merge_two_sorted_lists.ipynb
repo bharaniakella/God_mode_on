{
  "nbformat": 4,
  "nbformat_minor": 0,
  "metadata": {
    "colab": {
      "provenance": [],
      "authorship_tag": "ABX9TyMoheycXDrIO4M/uPV4im7J",
      "include_colab_link": true
    },
    "kernelspec": {
      "name": "python3",
      "display_name": "Python 3"
    },
    "language_info": {
      "name": "python"
    }
  },
  "cells": [
    {
      "cell_type": "markdown",
      "metadata": {
        "id": "view-in-github",
        "colab_type": "text"
      },
      "source": [
        "<a href=\"https://colab.research.google.com/github/bharaniakella/God_mode_on/blob/main/merge_two_sorted_lists.ipynb\" target=\"_parent\"><img src=\"https://colab.research.google.com/assets/colab-badge.svg\" alt=\"Open In Colab\"/></a>"
      ]
    },
    {
      "cell_type": "code",
      "execution_count": null,
      "metadata": {
        "id": "hdoIFL6Ye85f"
      },
      "outputs": [],
      "source": [
        "# Definition for singly-linked list.\n",
        "# class ListNode(object):\n",
        "#     def __init__(self, val=0, next=None):\n",
        "#         self.val = val\n",
        "#         self.next = next\n",
        "class Solution(object):\n",
        "    def mergeTwoLists(self, list1, list2):\n",
        "        \"\"\"\n",
        "        :type list1: Optional[ListNode]\n",
        "        :type list2: Optional[ListNode]\n",
        "        :rtype: Optional[ListNode]\n",
        "        \"\"\"\n",
        "        dummy=ListNode()\n",
        "        tail=dummy\n",
        "\n",
        "        while (list1 and list2):\n",
        "            if(list1.val<list2.val):\n",
        "                tail.next=list1\n",
        "                list1=list1.next\n",
        "            else:\n",
        "                tail.next=list2\n",
        "                list2=list2.next\n",
        "            tail=tail.next\n",
        "\n",
        "        if list1:\n",
        "            tail.next=list1\n",
        "        else:\n",
        "            tail.next=list2\n",
        "        return dummy.next\n",
        "\n",
        ""
      ]
    }
  ]
}