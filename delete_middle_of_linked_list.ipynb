{
  "nbformat": 4,
  "nbformat_minor": 0,
  "metadata": {
    "colab": {
      "provenance": [],
      "authorship_tag": "ABX9TyPk4w8SdsbP6sjPBIi+zX/8",
      "include_colab_link": true
    },
    "kernelspec": {
      "name": "python3",
      "display_name": "Python 3"
    },
    "language_info": {
      "name": "python"
    }
  },
  "cells": [
    {
      "cell_type": "markdown",
      "metadata": {
        "id": "view-in-github",
        "colab_type": "text"
      },
      "source": [
        "<a href=\"https://colab.research.google.com/github/bharaniakella/God_mode_on/blob/main/delete_middle_of_linked_list.ipynb\" target=\"_parent\"><img src=\"https://colab.research.google.com/assets/colab-badge.svg\" alt=\"Open In Colab\"/></a>"
      ]
    },
    {
      "cell_type": "code",
      "execution_count": null,
      "metadata": {
        "id": "uc6cvomFrxqA"
      },
      "outputs": [],
      "source": [
        "# Definition for singly-linked list.\n",
        "# class ListNode(object):\n",
        "#     def __init__(self, val=0, next=None):\n",
        "#         self.val = val\n",
        "#         self.next = next\n",
        "class Solution(object):\n",
        "    def deleteMiddle(self, head):\n",
        "        \"\"\"\n",
        "        :type head: Optional[ListNode]\n",
        "        :rtype: Optional[ListNode]\n",
        "        \"\"\"\n",
        "        fast=head\n",
        "        slow=head\n",
        "        count=0\n",
        "        if(head==None):\n",
        "            return None\n",
        "        if(head.next==None):\n",
        "            return None\n",
        "        while(fast!=None and fast.next!=None):\n",
        "            count=count+1\n",
        "            slow=slow.next\n",
        "            fast=fast.next.next\n",
        "\n",
        "        prev=0\n",
        "        temp=head\n",
        "        while(prev<count-1):\n",
        "            temp=temp.next\n",
        "            prev=prev+1\n",
        "        temp.next=slow.next\n",
        "        slow.next=None\n",
        "        return head\n",
        "\n",
        ""
      ]
    }
  ]
}