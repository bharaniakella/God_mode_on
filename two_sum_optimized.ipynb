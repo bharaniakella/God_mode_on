{
  "nbformat": 4,
  "nbformat_minor": 0,
  "metadata": {
    "colab": {
      "provenance": [],
      "authorship_tag": "ABX9TyOhXQJT1x/HhyTPQOZBpGND",
      "include_colab_link": true
    },
    "kernelspec": {
      "name": "python3",
      "display_name": "Python 3"
    },
    "language_info": {
      "name": "python"
    }
  },
  "cells": [
    {
      "cell_type": "markdown",
      "metadata": {
        "id": "view-in-github",
        "colab_type": "text"
      },
      "source": [
        "<a href=\"https://colab.research.google.com/github/bharaniakella/God_mode_on/blob/main/two_sum_optimized.ipynb\" target=\"_parent\"><img src=\"https://colab.research.google.com/assets/colab-badge.svg\" alt=\"Open In Colab\"/></a>"
      ]
    },
    {
      "cell_type": "code",
      "execution_count": 1,
      "metadata": {
        "id": "Wa8QfE6i3Cna"
      },
      "outputs": [],
      "source": [
        "import numpy as np\n",
        "arr=np.array([4,5,2,10,3,8,9])"
      ]
    },
    {
      "cell_type": "code",
      "source": [
        "def two_sum(arr,target):\n",
        "  seen={}\n",
        "  for i,num in enumerate(arr):\n",
        "    complement=target-arr[i]\n",
        "    if complement in seen:\n",
        "      return [seen[complement],i]\n",
        "    else:\n",
        "      seen[num]=i\n",
        "  return -1"
      ],
      "metadata": {
        "id": "mNJSKORj3MXI"
      },
      "execution_count": 2,
      "outputs": []
    },
    {
      "cell_type": "code",
      "source": [
        "two_sum(arr,8)"
      ],
      "metadata": {
        "id": "08-J8wtE3pdB",
        "outputId": "f1a52968-df06-43eb-8473-56cff8d69399",
        "colab": {
          "base_uri": "https://localhost:8080/"
        }
      },
      "execution_count": 3,
      "outputs": [
        {
          "output_type": "execute_result",
          "data": {
            "text/plain": [
              "[1, 4]"
            ]
          },
          "metadata": {},
          "execution_count": 3
        }
      ]
    },
    {
      "cell_type": "code",
      "source": [],
      "metadata": {
        "id": "6nkpTEj03rGL"
      },
      "execution_count": null,
      "outputs": []
    }
  ]
}