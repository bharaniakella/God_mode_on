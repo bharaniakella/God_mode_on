{
  "nbformat": 4,
  "nbformat_minor": 0,
  "metadata": {
    "colab": {
      "provenance": [],
      "authorship_tag": "ABX9TyPhYxrpj19Eo1wXimY5euFx",
      "include_colab_link": true
    },
    "kernelspec": {
      "name": "python3",
      "display_name": "Python 3"
    },
    "language_info": {
      "name": "python"
    }
  },
  "cells": [
    {
      "cell_type": "markdown",
      "metadata": {
        "id": "view-in-github",
        "colab_type": "text"
      },
      "source": [
        "<a href=\"https://colab.research.google.com/github/bharaniakella/God_mode_on/blob/main/linked_list_complete.ipynb\" target=\"_parent\"><img src=\"https://colab.research.google.com/assets/colab-badge.svg\" alt=\"Open In Colab\"/></a>"
      ]
    },
    {
      "cell_type": "code",
      "execution_count": 205,
      "metadata": {
        "id": "fGXRQkLm9zxA"
      },
      "outputs": [],
      "source": [
        "class Node:\n",
        "  def __init__(self,value):\n",
        "    self.value=value\n",
        "    self.next=None\n",
        "\n",
        "class LinkedList:\n",
        "  def __init__(self):\n",
        "    self.head=None\n",
        "    self.tail=None\n",
        "    self.length=0\n",
        "\n",
        "  def append(self,value):\n",
        "    new_node=Node(value)\n",
        "    if(self.head==None):\n",
        "      self.head=new_node\n",
        "      self.tail=new_node\n",
        "      self.length=self.length+1\n",
        "    else:\n",
        "      self.tail.next=new_node\n",
        "      self.tail=new_node\n",
        "      self.length=self.length+1\n",
        "\n",
        "  def prepend(self,value):\n",
        "    new_node=Node(value)\n",
        "    if(self.head==None):\n",
        "      self.head=new_node\n",
        "      self.tail=new_node\n",
        "      self.length=self.length+1\n",
        "    else:\n",
        "      new_node.next=self.head\n",
        "      self.head=new_node\n",
        "      self.length=self.length+1\n",
        "\n",
        "  def print_list(self):\n",
        "    temp=self.head\n",
        "    while(temp):\n",
        "      print(temp.value)\n",
        "      temp=temp.next\n",
        "\n",
        "  def insert(self,index,value):\n",
        "    new_node=Node(value)\n",
        "    if(index<0 or index>self.length):\n",
        "      return False\n",
        "    elif(index==0):\n",
        "      new_node.next=self.head\n",
        "      self.head=new_node\n",
        "      self.length=self.length+1\n",
        "    elif(index==self.length):\n",
        "      self.tail.next=new_node\n",
        "      self.tail=new_node\n",
        "      self.length=self.length+1\n",
        "    elif(self.length==0):\n",
        "      self.head=new_node\n",
        "      self.tail=new_node\n",
        "      self.length=self.length+1\n",
        "    else:\n",
        "      temp_node=self.head\n",
        "      for _ in range(index-1):\n",
        "        temp_node=temp_node.next\n",
        "      new_node.next=temp_node.next\n",
        "      temp_node.next=new_node\n",
        "      self.length=self.length+1\n",
        "    return True\n",
        "\n",
        "  def search(self,node_value):\n",
        "    temp=self.head\n",
        "    count=0\n",
        "    while(temp):\n",
        "      if(temp.value==node_value):\n",
        "        return count\n",
        "      count=count+1\n",
        "      temp=temp.next\n",
        "    return -1\n",
        "\n",
        "  def get(self,index):\n",
        "    if(index==-1):\n",
        "      return self.tail\n",
        "    if(index<=-1 or index>self.length):\n",
        "      return None\n",
        "    temp_node=self.head\n",
        "    for _ in range(index):\n",
        "      temp_node=temp_node.next\n",
        "    return temp_node\n",
        "\n",
        "  def set_value(self,index,value):\n",
        "    if(index==-1):\n",
        "      self.tail.value=value\n",
        "    if(index<-1 or index>self.length):\n",
        "      return None\n",
        "    temp_node=self.head\n",
        "    for _ in range(index):\n",
        "      temp_node=temp_node.next\n",
        "    temp_node.value=value\n",
        "    return True\n",
        "\n",
        "  def pop_first(self):\n",
        "    if(self.length==0):\n",
        "      return None\n",
        "    popped_node=self.head\n",
        "    if(self.length==1):\n",
        "      self.head=None\n",
        "      self.tail=None\n",
        "    else:\n",
        "      self.head=self.head.next\n",
        "      popped_node.next=None\n",
        "    self.length=self.length-1\n",
        "    return popped_node\n",
        "\n",
        "  def pop(self):\n",
        "    popped_node=self.tail\n",
        "    if(self.length==0):\n",
        "      return None\n",
        "    if(self.length==1):\n",
        "      self.head=None\n",
        "      self.tail=None\n",
        "    else:\n",
        "      temp_node=self.head\n",
        "      while(temp_node.next is not self.tail):\n",
        "        temp_node=temp_node.next\n",
        "      self.tail=temp_node\n",
        "      temp_node.next=None\n",
        "    self.length=self.length-1\n",
        "    return popped_node\n",
        "\n",
        "  def remove(self,index):\n",
        "    if(index<-1 or index>=self.length):\n",
        "      return None\n",
        "    if(index==0):\n",
        "      return self.pop_first()\n",
        "    if(index==self.length-1 or index==-1):\n",
        "      return self.pop()\n",
        "    prev_node=self.get(index-1)\n",
        "    popped_node=prev_node.next\n",
        "    prev_node.next=popped_node.next\n",
        "    popped_node.next=None\n",
        "    self.length=self.length-1\n",
        "    return popped_node\n",
        "\n",
        "  def delete_all(self):\n",
        "    self.head=None\n",
        "    self.tail=None\n",
        "    self.length=0\n"
      ]
    },
    {
      "cell_type": "code",
      "source": [
        "ll=LinkedList()\n",
        "ll.append(10)\n",
        "ll.append(20)\n",
        "ll.append(30)\n",
        "ll.append(40)\n",
        "ll.append(50)\n",
        "ll.append(60)\n"
      ],
      "metadata": {
        "id": "YsV3Jbeu-TVp"
      },
      "execution_count": 209,
      "outputs": []
    },
    {
      "cell_type": "code",
      "source": [
        "ll.length"
      ],
      "metadata": {
        "colab": {
          "base_uri": "https://localhost:8080/"
        },
        "id": "o6BwqENM-xws",
        "outputId": "9a4ec19e-77f3-48a4-825b-923d19e46fa0"
      },
      "execution_count": 210,
      "outputs": [
        {
          "output_type": "execute_result",
          "data": {
            "text/plain": [
              "6"
            ]
          },
          "metadata": {},
          "execution_count": 210
        }
      ]
    },
    {
      "cell_type": "code",
      "source": [
        "ll.print_list()"
      ],
      "metadata": {
        "colab": {
          "base_uri": "https://localhost:8080/"
        },
        "id": "VE3g_zWv_uun",
        "outputId": "04ab05e0-27c7-4e44-f3ca-0a6ae7cd9f92"
      },
      "execution_count": 211,
      "outputs": [
        {
          "output_type": "stream",
          "name": "stdout",
          "text": [
            "10\n",
            "20\n",
            "30\n",
            "40\n",
            "50\n",
            "60\n"
          ]
        }
      ]
    },
    {
      "cell_type": "code",
      "source": [
        "ll.insert(3,500)\n",
        "ll.print_list()"
      ],
      "metadata": {
        "colab": {
          "base_uri": "https://localhost:8080/"
        },
        "id": "PTU6UT0VAuZ_",
        "outputId": "4152353a-46f5-4e83-f6f6-f1bb1c96f0fe"
      },
      "execution_count": 149,
      "outputs": [
        {
          "output_type": "stream",
          "name": "stdout",
          "text": [
            "10\n",
            "20\n",
            "30\n",
            "500\n",
            "40\n",
            "50\n",
            "60\n"
          ]
        }
      ]
    },
    {
      "cell_type": "code",
      "source": [
        "ll.get(10)"
      ],
      "metadata": {
        "id": "_FtiajK5Dj30"
      },
      "execution_count": 150,
      "outputs": []
    },
    {
      "cell_type": "code",
      "source": [
        "ll.set_value(-2,100)\n",
        "ll.print_list()"
      ],
      "metadata": {
        "colab": {
          "base_uri": "https://localhost:8080/"
        },
        "id": "lB_WhtQEHvEe",
        "outputId": "69fa5675-edca-414b-a86a-774d6af94120"
      },
      "execution_count": 129,
      "outputs": [
        {
          "output_type": "stream",
          "name": "stdout",
          "text": [
            "30\n",
            "10\n",
            "20\n",
            "500\n"
          ]
        }
      ]
    },
    {
      "cell_type": "code",
      "source": [
        "ll.remove(2)"
      ],
      "metadata": {
        "colab": {
          "base_uri": "https://localhost:8080/"
        },
        "id": "wlyTyu1c7MfA",
        "outputId": "3f8d8857-b244-4db3-e828-08217df678f9"
      },
      "execution_count": 203,
      "outputs": [
        {
          "output_type": "execute_result",
          "data": {
            "text/plain": [
              "<__main__.Node at 0x7ed4299df730>"
            ]
          },
          "metadata": {},
          "execution_count": 203
        }
      ]
    },
    {
      "cell_type": "code",
      "source": [
        "ll.print_list()"
      ],
      "metadata": {
        "colab": {
          "base_uri": "https://localhost:8080/"
        },
        "id": "e9AMCXhD9Hja",
        "outputId": "841c4db0-6996-4162-d145-15439babe0c3"
      },
      "execution_count": 207,
      "outputs": [
        {
          "output_type": "stream",
          "name": "stdout",
          "text": [
            "10\n",
            "20\n",
            "30\n",
            "40\n",
            "50\n",
            "60\n"
          ]
        }
      ]
    },
    {
      "cell_type": "code",
      "source": [
        "ll.delete_all()\n",
        "ll.print_list()"
      ],
      "metadata": {
        "id": "KwIl2Rfx9KDB"
      },
      "execution_count": 208,
      "outputs": []
    },
    {
      "cell_type": "code",
      "source": [],
      "metadata": {
        "id": "fAE5WYdOUEHA"
      },
      "execution_count": null,
      "outputs": []
    }
  ]
}