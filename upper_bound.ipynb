{
  "nbformat": 4,
  "nbformat_minor": 0,
  "metadata": {
    "colab": {
      "provenance": [],
      "authorship_tag": "ABX9TyOZddppabZHsAlIrkLC2mgc",
      "include_colab_link": true
    },
    "kernelspec": {
      "name": "python3",
      "display_name": "Python 3"
    },
    "language_info": {
      "name": "python"
    }
  },
  "cells": [
    {
      "cell_type": "markdown",
      "metadata": {
        "id": "view-in-github",
        "colab_type": "text"
      },
      "source": [
        "<a href=\"https://colab.research.google.com/github/bharaniakella/God_mode_on/blob/main/upper_bound.ipynb\" target=\"_parent\"><img src=\"https://colab.research.google.com/assets/colab-badge.svg\" alt=\"Open In Colab\"/></a>"
      ]
    },
    {
      "cell_type": "code",
      "execution_count": 5,
      "metadata": {
        "id": "4zhmQ1sijXI1"
      },
      "outputs": [],
      "source": [
        "import numpy as np\n",
        "\n",
        "arr=np.array([3,5,8,9,15,19])\n"
      ]
    },
    {
      "cell_type": "code",
      "source": [
        "def upper_bound(arr,target):\n",
        "  low=0\n",
        "  high=len(arr)-1\n",
        "  result=len(arr)\n",
        "\n",
        "  while(low<=high):\n",
        "    mid=high-(high-low)//2\n",
        "    if(arr[mid]>target):\n",
        "      result=mid\n",
        "      high=mid-1\n",
        "    else:\n",
        "      low=mid+1\n",
        "  return result\n"
      ],
      "metadata": {
        "id": "joCcyUrUjxfb"
      },
      "execution_count": 6,
      "outputs": []
    },
    {
      "cell_type": "code",
      "source": [
        "upper_bound(arr,15)"
      ],
      "metadata": {
        "colab": {
          "base_uri": "https://localhost:8080/"
        },
        "id": "d6MLZ9-RkOBw",
        "outputId": "3a4cca15-6722-48ed-d4bc-a8f06ad408c1"
      },
      "execution_count": 10,
      "outputs": [
        {
          "output_type": "execute_result",
          "data": {
            "text/plain": [
              "5"
            ]
          },
          "metadata": {},
          "execution_count": 10
        }
      ]
    },
    {
      "cell_type": "code",
      "source": [],
      "metadata": {
        "id": "AFiHUOwkkQck"
      },
      "execution_count": null,
      "outputs": []
    }
  ]
}