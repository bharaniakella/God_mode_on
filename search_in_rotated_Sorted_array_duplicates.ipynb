{
  "nbformat": 4,
  "nbformat_minor": 0,
  "metadata": {
    "colab": {
      "provenance": [],
      "authorship_tag": "ABX9TyMzee+SLXtKSGavclwVVG8E",
      "include_colab_link": true
    },
    "kernelspec": {
      "name": "python3",
      "display_name": "Python 3"
    },
    "language_info": {
      "name": "python"
    }
  },
  "cells": [
    {
      "cell_type": "markdown",
      "metadata": {
        "id": "view-in-github",
        "colab_type": "text"
      },
      "source": [
        "<a href=\"https://colab.research.google.com/github/bharaniakella/God_mode_on/blob/main/search_in_rotated_Sorted_array_duplicates.ipynb\" target=\"_parent\"><img src=\"https://colab.research.google.com/assets/colab-badge.svg\" alt=\"Open In Colab\"/></a>"
      ]
    },
    {
      "cell_type": "code",
      "execution_count": 19,
      "metadata": {
        "id": "A3EjcfEAM0dL"
      },
      "outputs": [],
      "source": [
        "class Solution(object):\n",
        "    def search(self, nums, target):\n",
        "        \"\"\"\n",
        "        :type nums: List[int]\n",
        "        :type target: int\n",
        "        :rtype: bool\n",
        "        \"\"\"\n",
        "        low=0\n",
        "        high=len(nums)-1\n",
        "        check=0\n",
        "        while(low<=high):\n",
        "            mid=high-(high-low)//2\n",
        "            if(nums[mid]==target):\n",
        "                return True\n",
        "            if nums[low]==nums[mid] and nums[mid]==nums[high]:\n",
        "                low+=1\n",
        "                high-=1\n",
        "                continue\n",
        "\n",
        "            if(nums[low]<=nums[mid]):\n",
        "                if(nums[low]<=target <= target<=nums[mid]):\n",
        "                    high-mid-1\n",
        "                else:\n",
        "                    low=mid+1\n",
        "            else:\n",
        "                if(nums[mid]<=target <= target<=nums[high]):\n",
        "                    low=mid+1\n",
        "                else:\n",
        "                    high=mid-1\n",
        "        return False"
      ]
    },
    {
      "cell_type": "code",
      "source": [
        "import numpy as np\n",
        "arr=np.array([2,5,6,0,0,1,2])\n",
        "sol=Solution()\n",
        "sol.search(arr,2)"
      ],
      "metadata": {
        "colab": {
          "base_uri": "https://localhost:8080/"
        },
        "id": "Crd4LgKhM2LN",
        "outputId": "5aa58388-2706-4c6c-a326-98dc0ba37dd6"
      },
      "execution_count": 21,
      "outputs": [
        {
          "output_type": "execute_result",
          "data": {
            "text/plain": [
              "True"
            ]
          },
          "metadata": {},
          "execution_count": 21
        }
      ]
    },
    {
      "cell_type": "code",
      "source": [
        "from typing import *\n",
        "def searchInARotatedSortedArrayII(arr : List[int], k : int) -> bool:\n",
        "    n = len(arr)  # size of the array\n",
        "    low, high = 0, n - 1\n",
        "\n",
        "    while low <= high:\n",
        "        mid = (low + high) // 2\n",
        "\n",
        "        # if mid points to the target\n",
        "        if arr[mid] == k:\n",
        "            return True\n",
        "\n",
        "        # Edge case:\n",
        "        if arr[low] == arr[mid] and arr[mid] == arr[high]:\n",
        "            low += 1\n",
        "            high -= 1\n",
        "            continue\n",
        "\n",
        "        # if left part is sorted\n",
        "        if arr[low] <= arr[mid]:\n",
        "            if arr[low] <= k <= arr[mid]:\n",
        "                # element exists\n",
        "                high = mid - 1\n",
        "            else:\n",
        "                # element does not exist\n",
        "                low = mid + 1\n",
        "        else:  # if right part is sorted\n",
        "            if arr[mid] <= k <= arr[high]:\n",
        "                # element exists\n",
        "                low = mid + 1\n",
        "            else:\n",
        "                # element does not exist\n",
        "                high = mid - 1\n",
        "\n",
        "    return False\n",
        "\n",
        "if __name__ == \"__main__\":\n",
        "    arr = [7, 8, 1, 2, 3, 3, 3, 4, 5, 6]\n",
        "    k = 9\n",
        "    ans = searchInARotatedSortedArrayII(arr, k)\n",
        "    if not ans:\n",
        "        print(\"Target is not present.\")\n",
        "    else:\n",
        "        print(\"Target is present in the array.\")\n",
        "\n"
      ],
      "metadata": {
        "colab": {
          "base_uri": "https://localhost:8080/"
        },
        "id": "uxoLdW6fNENn",
        "outputId": "3e8b22ac-1e8d-46ee-8bb8-6f6b8cfe8e1a"
      },
      "execution_count": 12,
      "outputs": [
        {
          "output_type": "stream",
          "name": "stdout",
          "text": [
            "Target is not present.\n"
          ]
        }
      ]
    },
    {
      "cell_type": "code",
      "source": [],
      "metadata": {
        "id": "fOXaY2y1PH2I"
      },
      "execution_count": null,
      "outputs": []
    }
  ]
}