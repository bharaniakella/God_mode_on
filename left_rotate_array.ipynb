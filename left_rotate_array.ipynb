{
  "nbformat": 4,
  "nbformat_minor": 0,
  "metadata": {
    "colab": {
      "provenance": [],
      "authorship_tag": "ABX9TyOzi7Aip92catsuo9pUfqp8",
      "include_colab_link": true
    },
    "kernelspec": {
      "name": "python3",
      "display_name": "Python 3"
    },
    "language_info": {
      "name": "python"
    }
  },
  "cells": [
    {
      "cell_type": "markdown",
      "metadata": {
        "id": "view-in-github",
        "colab_type": "text"
      },
      "source": [
        "<a href=\"https://colab.research.google.com/github/bharaniakella/God_mode_on/blob/main/left_rotate_array.ipynb\" target=\"_parent\"><img src=\"https://colab.research.google.com/assets/colab-badge.svg\" alt=\"Open In Colab\"/></a>"
      ]
    },
    {
      "cell_type": "code",
      "execution_count": 6,
      "metadata": {
        "id": "TZU1ceaTBMLI"
      },
      "outputs": [],
      "source": [
        "import numpy as np\n",
        "arr=np.array([1,2,3,4,5])"
      ]
    },
    {
      "cell_type": "code",
      "source": [
        "def left_rotate(arr):\n",
        "  first=0\n",
        "  second=1\n",
        "  while((first<len(arr))&(second<len(arr))):\n",
        "    temp=arr[second]\n",
        "    arr[second]=arr[first]\n",
        "    arr[first]=temp\n",
        "\n",
        "    first=first+1\n",
        "    second=second+1\n",
        "\n",
        "  return arr"
      ],
      "metadata": {
        "id": "N8Qv0e9sBT9j"
      },
      "execution_count": 7,
      "outputs": []
    },
    {
      "cell_type": "code",
      "source": [
        "left_rotate(arr)"
      ],
      "metadata": {
        "colab": {
          "base_uri": "https://localhost:8080/"
        },
        "id": "UpzyeucZClTM",
        "outputId": "a8089aad-ef03-4c09-cd4f-b9b67199272d"
      },
      "execution_count": 8,
      "outputs": [
        {
          "output_type": "execute_result",
          "data": {
            "text/plain": [
              "array([2, 3, 4, 5, 1])"
            ]
          },
          "metadata": {},
          "execution_count": 8
        }
      ]
    },
    {
      "cell_type": "code",
      "source": [],
      "metadata": {
        "id": "blvGHMawCmq-"
      },
      "execution_count": null,
      "outputs": []
    }
  ]
}