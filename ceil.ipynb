{
  "nbformat": 4,
  "nbformat_minor": 0,
  "metadata": {
    "colab": {
      "provenance": [],
      "authorship_tag": "ABX9TyPK2eRewgTI/mVyUDx0JDNP",
      "include_colab_link": true
    },
    "kernelspec": {
      "name": "python3",
      "display_name": "Python 3"
    },
    "language_info": {
      "name": "python"
    }
  },
  "cells": [
    {
      "cell_type": "markdown",
      "metadata": {
        "id": "view-in-github",
        "colab_type": "text"
      },
      "source": [
        "<a href=\"https://colab.research.google.com/github/bharaniakella/God_mode_on/blob/main/ceil.ipynb\" target=\"_parent\"><img src=\"https://colab.research.google.com/assets/colab-badge.svg\" alt=\"Open In Colab\"/></a>"
      ]
    },
    {
      "cell_type": "code",
      "execution_count": 1,
      "metadata": {
        "id": "rmOR5xg0nkV8"
      },
      "outputs": [],
      "source": [
        "import numpy as np\n",
        "\n",
        "arr=np.array([3, 4, 4, 7, 8, 10])"
      ]
    },
    {
      "cell_type": "code",
      "source": [
        "def ceil(arr,target):\n",
        "  low=0\n",
        "  high=len(arr)-1\n",
        "  result=-1\n",
        "\n",
        "  while(low<=high):\n",
        "    mid=high-(high-low)//2\n",
        "    if(arr[mid]>=target):\n",
        "      result=arr[mid]\n",
        "      high=mid-1\n",
        "    else:\n",
        "      low=mid+1\n",
        "  return result"
      ],
      "metadata": {
        "id": "CKMWiTDGnpbt"
      },
      "execution_count": 9,
      "outputs": []
    },
    {
      "cell_type": "code",
      "source": [
        "ceil(arr,2)"
      ],
      "metadata": {
        "colab": {
          "base_uri": "https://localhost:8080/"
        },
        "id": "_jcCiTIAoLo2",
        "outputId": "4eacccf6-97fe-4705-8a02-04f94b111941"
      },
      "execution_count": 12,
      "outputs": [
        {
          "output_type": "execute_result",
          "data": {
            "text/plain": [
              "3"
            ]
          },
          "metadata": {},
          "execution_count": 12
        }
      ]
    },
    {
      "cell_type": "code",
      "source": [],
      "metadata": {
        "id": "-q0CCGunoNos"
      },
      "execution_count": null,
      "outputs": []
    }
  ]
}