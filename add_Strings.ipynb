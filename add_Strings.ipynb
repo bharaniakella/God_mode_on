{
  "nbformat": 4,
  "nbformat_minor": 0,
  "metadata": {
    "colab": {
      "provenance": [],
      "authorship_tag": "ABX9TyMxZ+jf3oL0AM/VAtmnd0dS",
      "include_colab_link": true
    },
    "kernelspec": {
      "name": "python3",
      "display_name": "Python 3"
    },
    "language_info": {
      "name": "python"
    }
  },
  "cells": [
    {
      "cell_type": "markdown",
      "metadata": {
        "id": "view-in-github",
        "colab_type": "text"
      },
      "source": [
        "<a href=\"https://colab.research.google.com/github/bharaniakella/God_mode_on/blob/main/add_Strings.ipynb\" target=\"_parent\"><img src=\"https://colab.research.google.com/assets/colab-badge.svg\" alt=\"Open In Colab\"/></a>"
      ]
    },
    {
      "cell_type": "code",
      "execution_count": null,
      "metadata": {
        "id": "u8qG4MTI1khQ"
      },
      "outputs": [],
      "source": [
        "class Solution(object):\n",
        "    def addStrings(self, num1, num2):\n",
        "        \"\"\"\n",
        "        :type num1: str\n",
        "        :type num2: str\n",
        "        :rtype: str\n",
        "        \"\"\"\n",
        "        integer_1=0\n",
        "        integer_2=0\n",
        "\n",
        "        for i in num1:\n",
        "            integer_1 = integer_1 * 10 + (ord(i)-48)\n",
        "        for j in num2:\n",
        "            integer_2 = integer_2 * 10 + (ord(j) -48)\n",
        "        return str(integer_1 + integer_2)\n",
        ""
      ]
    }
  ]
}