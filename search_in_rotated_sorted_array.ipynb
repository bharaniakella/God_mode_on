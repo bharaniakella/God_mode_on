{
  "nbformat": 4,
  "nbformat_minor": 0,
  "metadata": {
    "colab": {
      "provenance": [],
      "authorship_tag": "ABX9TyNJcxUemFGbx5AGaZb9TBHR",
      "include_colab_link": true
    },
    "kernelspec": {
      "name": "python3",
      "display_name": "Python 3"
    },
    "language_info": {
      "name": "python"
    }
  },
  "cells": [
    {
      "cell_type": "markdown",
      "metadata": {
        "id": "view-in-github",
        "colab_type": "text"
      },
      "source": [
        "<a href=\"https://colab.research.google.com/github/bharaniakella/God_mode_on/blob/main/search_in_rotated_sorted_array.ipynb\" target=\"_parent\"><img src=\"https://colab.research.google.com/assets/colab-badge.svg\" alt=\"Open In Colab\"/></a>"
      ]
    },
    {
      "cell_type": "code",
      "execution_count": null,
      "metadata": {
        "id": "picSzh_KHgh9"
      },
      "outputs": [],
      "source": [
        "class Solution(object):\n",
        "    def search(self, nums, target):\n",
        "        \"\"\"\n",
        "        :type nums: List[int]\n",
        "        :type target: int\n",
        "        :rtype: int\n",
        "        \"\"\"\n",
        "        low=0\n",
        "        high=len(nums)-1\n",
        "        while(low<=high):\n",
        "            mid=high-(high-low)//2\n",
        "            if(nums[mid]==target):\n",
        "                return mid\n",
        "            if(nums[low]<=nums[mid]):\n",
        "\n",
        "                if(nums[low]<=target and target<=nums[mid]):\n",
        "                    high=mid-1\n",
        "                else:\n",
        "                    low=mid+1\n",
        "\n",
        "            else:\n",
        "                if(nums[mid]<=target and target<=nums[high]):\n",
        "                    low=mid+1\n",
        "                else:\n",
        "                    high=mid-1\n",
        "        return -1\n"
      ]
    }
  ]
}