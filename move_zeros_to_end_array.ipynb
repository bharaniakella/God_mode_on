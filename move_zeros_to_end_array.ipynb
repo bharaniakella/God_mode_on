{
  "nbformat": 4,
  "nbformat_minor": 0,
  "metadata": {
    "colab": {
      "provenance": [],
      "authorship_tag": "ABX9TyNjwEtGcCbcKnPxV3b1aD2h",
      "include_colab_link": true
    },
    "kernelspec": {
      "name": "python3",
      "display_name": "Python 3"
    },
    "language_info": {
      "name": "python"
    }
  },
  "cells": [
    {
      "cell_type": "markdown",
      "metadata": {
        "id": "view-in-github",
        "colab_type": "text"
      },
      "source": [
        "<a href=\"https://colab.research.google.com/github/bharaniakella/God_mode_on/blob/main/move_zeros_to_end_array.ipynb\" target=\"_parent\"><img src=\"https://colab.research.google.com/assets/colab-badge.svg\" alt=\"Open In Colab\"/></a>"
      ]
    },
    {
      "cell_type": "code",
      "execution_count": 16,
      "metadata": {
        "id": "mL1VxaQtFqVa"
      },
      "outputs": [],
      "source": [
        "import numpy as np\n",
        "\n",
        "arr=np.array([1,2,0,1,0,4,0])\n"
      ]
    },
    {
      "cell_type": "code",
      "source": [
        "def move_zeros(arr):\n",
        "  i=0\n",
        "  while(arr[i]!=0):\n",
        "    i=i+1\n",
        "\n",
        "  z=i\n",
        "  p=z+1\n",
        "\n",
        "  while((z<len(arr))&(p<len(arr))):\n",
        "    if(arr[p]!=0):\n",
        "      temp=arr[p]\n",
        "      arr[p]=arr[z]\n",
        "      arr[z]=temp\n",
        "\n",
        "      z=z+1\n",
        "      p=p+1\n",
        "\n",
        "    else:\n",
        "      p=p+1\n",
        "\n",
        "  return arr\n"
      ],
      "metadata": {
        "id": "lemzT6d3FusT"
      },
      "execution_count": 17,
      "outputs": []
    },
    {
      "cell_type": "code",
      "source": [
        "move_zeros(arr)"
      ],
      "metadata": {
        "colab": {
          "base_uri": "https://localhost:8080/"
        },
        "id": "GTiz5EkyF-VW",
        "outputId": "3a611a64-20e0-4715-f999-814b7fa951dd"
      },
      "execution_count": 18,
      "outputs": [
        {
          "output_type": "execute_result",
          "data": {
            "text/plain": [
              "array([1, 2, 1, 4, 0, 0, 0])"
            ]
          },
          "metadata": {},
          "execution_count": 18
        }
      ]
    },
    {
      "cell_type": "code",
      "source": [],
      "metadata": {
        "id": "sXAbLNDRHT57"
      },
      "execution_count": null,
      "outputs": []
    }
  ]
}