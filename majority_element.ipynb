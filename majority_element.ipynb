{
  "nbformat": 4,
  "nbformat_minor": 0,
  "metadata": {
    "colab": {
      "provenance": [],
      "authorship_tag": "ABX9TyPNEz3AFjaKzILlu08+WFlv",
      "include_colab_link": true
    },
    "kernelspec": {
      "name": "python3",
      "display_name": "Python 3"
    },
    "language_info": {
      "name": "python"
    }
  },
  "cells": [
    {
      "cell_type": "markdown",
      "metadata": {
        "id": "view-in-github",
        "colab_type": "text"
      },
      "source": [
        "<a href=\"https://colab.research.google.com/github/bharaniakella/God_mode_on/blob/main/majority_element.ipynb\" target=\"_parent\"><img src=\"https://colab.research.google.com/assets/colab-badge.svg\" alt=\"Open In Colab\"/></a>"
      ]
    },
    {
      "cell_type": "code",
      "execution_count": 21,
      "metadata": {
        "id": "foz9GRxpOxWJ"
      },
      "outputs": [],
      "source": [
        "class Solution(object):\n",
        "    def majorityElement(self, nums):\n",
        "        \"\"\"\n",
        "        :type nums: List[int]\n",
        "        :rtype: int\n",
        "        \"\"\"\n",
        "        majority={}\n",
        "        for i in nums:\n",
        "            if(i in majority):\n",
        "                majority[i]=majority[i]+1\n",
        "            else:\n",
        "                majority[i]=1\n",
        "        return max(majority,key=majority.get)\n",
        "\n",
        "\n",
        ""
      ]
    },
    {
      "cell_type": "code",
      "source": [],
      "metadata": {
        "id": "qtrliGxLO57g"
      },
      "execution_count": null,
      "outputs": []
    }
  ]
}