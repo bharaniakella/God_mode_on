{
  "nbformat": 4,
  "nbformat_minor": 0,
  "metadata": {
    "colab": {
      "provenance": [],
      "authorship_tag": "ABX9TyM3OXkjZv6QQ6hZFrBfSJ0B",
      "include_colab_link": true
    },
    "kernelspec": {
      "name": "python3",
      "display_name": "Python 3"
    },
    "language_info": {
      "name": "python"
    }
  },
  "cells": [
    {
      "cell_type": "markdown",
      "metadata": {
        "id": "view-in-github",
        "colab_type": "text"
      },
      "source": [
        "<a href=\"https://colab.research.google.com/github/bharaniakella/God_mode_on/blob/main/alternating_positive_negative_array.ipynb\" target=\"_parent\"><img src=\"https://colab.research.google.com/assets/colab-badge.svg\" alt=\"Open In Colab\"/></a>"
      ]
    },
    {
      "cell_type": "code",
      "execution_count": 1,
      "metadata": {
        "id": "XVZX-c0GC6DL"
      },
      "outputs": [],
      "source": [
        "class Solution(object):\n",
        "    def rearrangeArray(self, nums):\n",
        "        \"\"\"\n",
        "        :type nums: List[int]\n",
        "        :rtype: List[int]\n",
        "        \"\"\"\n",
        "        ans=[0]*len(nums)\n",
        "        posIndex=0\n",
        "        negIndex=1\n",
        "        for i in range(len(nums)):\n",
        "            if(nums[i]<0):\n",
        "                ans[negIndex]=nums[i]\n",
        "                negIndex=negIndex+2\n",
        "            else:\n",
        "                ans[posIndex]=nums[i]\n",
        "                posIndex=posIndex+2\n",
        "        return ans\n",
        "\n",
        ""
      ]
    },
    {
      "cell_type": "code",
      "source": [],
      "metadata": {
        "id": "Ziv0WOJ2C-kx"
      },
      "execution_count": null,
      "outputs": []
    }
  ]
}