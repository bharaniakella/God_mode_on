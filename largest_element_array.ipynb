{
  "nbformat": 4,
  "nbformat_minor": 0,
  "metadata": {
    "colab": {
      "provenance": []
    },
    "kernelspec": {
      "name": "python3",
      "display_name": "Python 3"
    },
    "language_info": {
      "name": "python"
    }
  },
  "cells": [
    {
      "cell_type": "code",
      "execution_count": 1,
      "metadata": {
        "id": "0FFFWgvzxIyR"
      },
      "outputs": [],
      "source": [
        "import numpy as np\n",
        "\n",
        "arr=np.array([3,8,2,5,9,6,4])"
      ]
    },
    {
      "cell_type": "code",
      "source": [
        "def max_array(arr):\n",
        "  max=arr[0]\n",
        "  for i in range(1,len(arr)):\n",
        "    if(arr[i]>max):\n",
        "      max=arr[i]\n",
        "  return max"
      ],
      "metadata": {
        "id": "c_3VRVQTxTA0"
      },
      "execution_count": 2,
      "outputs": []
    },
    {
      "cell_type": "code",
      "source": [
        "max_array(arr)"
      ],
      "metadata": {
        "colab": {
          "base_uri": "https://localhost:8080/"
        },
        "id": "L0JZwNCVxs-u",
        "outputId": "6184ffd0-dd4d-4004-8b3a-e646479b16c8"
      },
      "execution_count": 3,
      "outputs": [
        {
          "output_type": "execute_result",
          "data": {
            "text/plain": [
              "9"
            ]
          },
          "metadata": {},
          "execution_count": 3
        }
      ]
    },
    {
      "cell_type": "code",
      "source": [],
      "metadata": {
        "id": "YevtHYUbxul0"
      },
      "execution_count": null,
      "outputs": []
    }
  ]
}