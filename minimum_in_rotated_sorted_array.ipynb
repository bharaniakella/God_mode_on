{
  "nbformat": 4,
  "nbformat_minor": 0,
  "metadata": {
    "colab": {
      "provenance": [],
      "authorship_tag": "ABX9TyMdctYelGPg/KFlCxaEIp0V",
      "include_colab_link": true
    },
    "kernelspec": {
      "name": "python3",
      "display_name": "Python 3"
    },
    "language_info": {
      "name": "python"
    }
  },
  "cells": [
    {
      "cell_type": "markdown",
      "metadata": {
        "id": "view-in-github",
        "colab_type": "text"
      },
      "source": [
        "<a href=\"https://colab.research.google.com/github/bharaniakella/God_mode_on/blob/main/minimum_in_rotated_sorted_array.ipynb\" target=\"_parent\"><img src=\"https://colab.research.google.com/assets/colab-badge.svg\" alt=\"Open In Colab\"/></a>"
      ]
    },
    {
      "cell_type": "code",
      "execution_count": null,
      "metadata": {
        "id": "PB476o0UV9Yk"
      },
      "outputs": [],
      "source": [
        "class Solution(object):\n",
        "    def findMin(self, nums):\n",
        "        \"\"\"\n",
        "        :type nums: List[int]\n",
        "        :rtype: int\n",
        "        \"\"\"\n",
        "        low=0\n",
        "        high=len(nums)-1\n",
        "        ans=float('infinity')\n",
        "        while(low<=high):\n",
        "            mid=high-(high-low)//2\n",
        "            if(nums[low]<=nums[mid]):\n",
        "                ans=min(ans,nums[low])\n",
        "                low=mid+1\n",
        "            else:\n",
        "                ans=min(nums[mid],ans)\n",
        "                high=mid-1\n",
        "        return ans"
      ]
    }
  ]
}