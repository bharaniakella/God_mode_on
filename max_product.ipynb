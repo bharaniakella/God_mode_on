{
  "nbformat": 4,
  "nbformat_minor": 0,
  "metadata": {
    "colab": {
      "provenance": [],
      "authorship_tag": "ABX9TyMNRl0ww9FQvhyt6Nqr3Fvs",
      "include_colab_link": true
    },
    "kernelspec": {
      "name": "python3",
      "display_name": "Python 3"
    },
    "language_info": {
      "name": "python"
    }
  },
  "cells": [
    {
      "cell_type": "markdown",
      "metadata": {
        "id": "view-in-github",
        "colab_type": "text"
      },
      "source": [
        "<a href=\"https://colab.research.google.com/github/bharaniakella/God_mode_on/blob/main/max_product.ipynb\" target=\"_parent\"><img src=\"https://colab.research.google.com/assets/colab-badge.svg\" alt=\"Open In Colab\"/></a>"
      ]
    },
    {
      "cell_type": "code",
      "execution_count": 1,
      "metadata": {
        "id": "xJbvDNa135kP"
      },
      "outputs": [],
      "source": [
        "import numpy as np\n",
        "\n",
        "arr=np.array([5,4,3,7,6])"
      ]
    },
    {
      "cell_type": "code",
      "source": [
        "def max_product(arr):\n",
        "  max=0\n",
        "  sm=-1\n",
        "  for i in range(1,len(arr)):\n",
        "    if(arr[i]>arr[max]):\n",
        "      sm=max\n",
        "      max=i\n",
        "    elif((sm!=-1)&(arr[i]>arr[sm])):\n",
        "      sm=i\n",
        "\n",
        "  return arr[max]*arr[sm]"
      ],
      "metadata": {
        "id": "gReU_1SK7EJN"
      },
      "execution_count": 4,
      "outputs": []
    },
    {
      "cell_type": "code",
      "source": [
        "max_product(arr)"
      ],
      "metadata": {
        "colab": {
          "base_uri": "https://localhost:8080/"
        },
        "id": "HGSmKtiE7mDL",
        "outputId": "f8e994f0-cbc6-43e8-f879-141a553ea2f8"
      },
      "execution_count": 5,
      "outputs": [
        {
          "output_type": "execute_result",
          "data": {
            "text/plain": [
              "42"
            ]
          },
          "metadata": {},
          "execution_count": 5
        }
      ]
    },
    {
      "cell_type": "code",
      "source": [],
      "metadata": {
        "id": "Wyh6z71a7neg"
      },
      "execution_count": null,
      "outputs": []
    }
  ]
}