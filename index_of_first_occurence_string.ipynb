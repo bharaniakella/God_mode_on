{
  "nbformat": 4,
  "nbformat_minor": 0,
  "metadata": {
    "colab": {
      "provenance": [],
      "authorship_tag": "ABX9TyMxJoc2BSe/jqtZ7YaGMrr4",
      "include_colab_link": true
    },
    "kernelspec": {
      "name": "python3",
      "display_name": "Python 3"
    },
    "language_info": {
      "name": "python"
    }
  },
  "cells": [
    {
      "cell_type": "markdown",
      "metadata": {
        "id": "view-in-github",
        "colab_type": "text"
      },
      "source": [
        "<a href=\"https://colab.research.google.com/github/bharaniakella/God_mode_on/blob/main/index_of_first_occurence_string.ipynb\" target=\"_parent\"><img src=\"https://colab.research.google.com/assets/colab-badge.svg\" alt=\"Open In Colab\"/></a>"
      ]
    },
    {
      "cell_type": "code",
      "source": [
        "class Solution(object):\n",
        "    def strStr(self, haystack, needle):\n",
        "        \"\"\"\n",
        "        :type haystack: str\n",
        "        :type needle: str\n",
        "        :rtype: int\n",
        "        \"\"\"\n",
        "        return haystack.find(needle)"
      ],
      "metadata": {
        "id": "P2TwfwMKFMV6"
      },
      "execution_count": null,
      "outputs": []
    }
  ]
}