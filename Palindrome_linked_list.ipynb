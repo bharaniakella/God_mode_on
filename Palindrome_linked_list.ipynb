{
  "nbformat": 4,
  "nbformat_minor": 0,
  "metadata": {
    "colab": {
      "provenance": [],
      "authorship_tag": "ABX9TyMKLraangnVmcCEtsc50MIy",
      "include_colab_link": true
    },
    "kernelspec": {
      "name": "python3",
      "display_name": "Python 3"
    },
    "language_info": {
      "name": "python"
    }
  },
  "cells": [
    {
      "cell_type": "markdown",
      "metadata": {
        "id": "view-in-github",
        "colab_type": "text"
      },
      "source": [
        "<a href=\"https://colab.research.google.com/github/bharaniakella/God_mode_on/blob/main/Palindrome_linked_list.ipynb\" target=\"_parent\"><img src=\"https://colab.research.google.com/assets/colab-badge.svg\" alt=\"Open In Colab\"/></a>"
      ]
    },
    {
      "cell_type": "code",
      "execution_count": null,
      "metadata": {
        "id": "b9sd4-IlIb5O"
      },
      "outputs": [],
      "source": [
        "# Definition for singly-linked list.\n",
        "# class ListNode(object):\n",
        "#     def __init__(self, val=0, next=None):\n",
        "#         self.val = val\n",
        "#         self.next = next\n",
        "class Solution(object):\n",
        "    def isPalindrome(self, head):\n",
        "        \"\"\"\n",
        "        :type head: ListNode\n",
        "        :rtype: bool\n",
        "        \"\"\"\n",
        "        prev=None\n",
        "        slow=head\n",
        "        fast=head\n",
        "        while(fast and fast.next):\n",
        "            slow,fast=slow.next,fast.next.next\n",
        "        prev,slow,prev.next=slow,slow.next,None\n",
        "\n",
        "        while(slow):\n",
        "            slow.next,prev,slow=prev,slow,slow.next\n",
        "        slow,fast=prev,head\n",
        "\n",
        "        while(slow):\n",
        "            if(slow.val!=fast.val):\n",
        "                return False\n",
        "            slow,fast=slow.next,fast.next\n",
        "        return True\n",
        "\n",
        ""
      ]
    }
  ]
}