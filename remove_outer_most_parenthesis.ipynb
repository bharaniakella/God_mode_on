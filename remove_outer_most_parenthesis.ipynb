{
  "nbformat": 4,
  "nbformat_minor": 0,
  "metadata": {
    "colab": {
      "provenance": [],
      "authorship_tag": "ABX9TyO6h0VmlLS2eXUNFtSoKpDi",
      "include_colab_link": true
    },
    "kernelspec": {
      "name": "python3",
      "display_name": "Python 3"
    },
    "language_info": {
      "name": "python"
    }
  },
  "cells": [
    {
      "cell_type": "markdown",
      "metadata": {
        "id": "view-in-github",
        "colab_type": "text"
      },
      "source": [
        "<a href=\"https://colab.research.google.com/github/bharaniakella/God_mode_on/blob/main/remove_outer_most_parenthesis.ipynb\" target=\"_parent\"><img src=\"https://colab.research.google.com/assets/colab-badge.svg\" alt=\"Open In Colab\"/></a>"
      ]
    },
    {
      "cell_type": "code",
      "execution_count": null,
      "metadata": {
        "id": "qOoabIgTdNhi"
      },
      "outputs": [],
      "source": [
        "class Solution(object):\n",
        "    def removeOuterParentheses(self, s):\n",
        "        \"\"\"\n",
        "        :type s: str\n",
        "        :rtype: str\n",
        "        \"\"\"\n",
        "        count=0\n",
        "        res=\"\"\n",
        "        for char in s:\n",
        "            if char==\"(\":\n",
        "                count=count+1\n",
        "                if(count>1):\n",
        "                    res=res+char\n",
        "            else:\n",
        "                count=count-1\n",
        "                if(count>0):\n",
        "                    res=res+char\n",
        "        return res\n"
      ]
    }
  ]
}