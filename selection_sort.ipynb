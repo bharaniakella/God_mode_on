{
  "nbformat": 4,
  "nbformat_minor": 0,
  "metadata": {
    "colab": {
      "provenance": [],
      "authorship_tag": "ABX9TyMa/Qp9YDsp38SHVO6ZE+0x",
      "include_colab_link": true
    },
    "kernelspec": {
      "name": "python3",
      "display_name": "Python 3"
    },
    "language_info": {
      "name": "python"
    }
  },
  "cells": [
    {
      "cell_type": "markdown",
      "metadata": {
        "id": "view-in-github",
        "colab_type": "text"
      },
      "source": [
        "<a href=\"https://colab.research.google.com/github/bharaniakella/God_mode_on/blob/main/selection_sort.ipynb\" target=\"_parent\"><img src=\"https://colab.research.google.com/assets/colab-badge.svg\" alt=\"Open In Colab\"/></a>"
      ]
    },
    {
      "cell_type": "code",
      "execution_count": 1,
      "metadata": {
        "id": "yuxkMX6WXKgU"
      },
      "outputs": [],
      "source": [
        "import numpy as np\n",
        "arr=np.array([13,46,24,52,9,20])\n",
        "\n",
        "def selection_sort(arr):\n",
        "  for i in range(0,len(arr)-1):\n",
        "    mini=i\n",
        "    for j in range(i,len(arr)):\n",
        "      if(arr[j]<arr[mini]):\n",
        "        mini=j\n",
        "    temp=arr[mini]\n",
        "    arr[mini]=arr[i]\n",
        "    arr[i]=temp\n",
        "  return arr"
      ]
    },
    {
      "cell_type": "code",
      "source": [
        "selection_sort(arr)"
      ],
      "metadata": {
        "colab": {
          "base_uri": "https://localhost:8080/"
        },
        "id": "arIUEynmYOnQ",
        "outputId": "208b1d72-2063-4b8e-be20-f8bb90e820a9"
      },
      "execution_count": 2,
      "outputs": [
        {
          "output_type": "execute_result",
          "data": {
            "text/plain": [
              "array([ 9, 13, 20, 24, 46, 52])"
            ]
          },
          "metadata": {},
          "execution_count": 2
        }
      ]
    },
    {
      "cell_type": "code",
      "source": [],
      "metadata": {
        "id": "ytcAARsYYRUB"
      },
      "execution_count": null,
      "outputs": []
    }
  ]
}