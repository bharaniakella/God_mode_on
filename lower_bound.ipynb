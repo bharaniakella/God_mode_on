{
  "nbformat": 4,
  "nbformat_minor": 0,
  "metadata": {
    "colab": {
      "provenance": [],
      "authorship_tag": "ABX9TyP0PAee5+Awac8VJ1zCkuAm",
      "include_colab_link": true
    },
    "kernelspec": {
      "name": "python3",
      "display_name": "Python 3"
    },
    "language_info": {
      "name": "python"
    }
  },
  "cells": [
    {
      "cell_type": "markdown",
      "metadata": {
        "id": "view-in-github",
        "colab_type": "text"
      },
      "source": [
        "<a href=\"https://colab.research.google.com/github/bharaniakella/God_mode_on/blob/main/lower_bound.ipynb\" target=\"_parent\"><img src=\"https://colab.research.google.com/assets/colab-badge.svg\" alt=\"Open In Colab\"/></a>"
      ]
    },
    {
      "cell_type": "code",
      "execution_count": 1,
      "metadata": {
        "id": "eSGqXKgDLarp"
      },
      "outputs": [],
      "source": [
        "import numpy as np\n",
        "\n",
        "arr=np.array([3,5,8,15,19])"
      ]
    },
    {
      "cell_type": "code",
      "source": [
        "from numpy.core import arrayprint\n",
        "def lower_bound(arr,target):\n",
        "  low=0\n",
        "  high=len(arr)-1\n",
        "  result=len(arr)\n",
        "  while(low<=high):\n",
        "    mid=high-(high-low)//2\n",
        "\n",
        "    if(arr[mid]>=target):\n",
        "      result=mid\n",
        "      high=mid-1\n",
        "    else:\n",
        "      low=mid+1\n",
        "  return result\n",
        "\n"
      ],
      "metadata": {
        "id": "NSFF67lSM4Ng"
      },
      "execution_count": 7,
      "outputs": []
    },
    {
      "cell_type": "code",
      "source": [
        "lower_bound(arr,7)"
      ],
      "metadata": {
        "colab": {
          "base_uri": "https://localhost:8080/"
        },
        "id": "qL0AT4NSNhKh",
        "outputId": "ba9126b0-a9e8-46bc-bef6-56d0264fad30"
      },
      "execution_count": 11,
      "outputs": [
        {
          "output_type": "execute_result",
          "data": {
            "text/plain": [
              "2"
            ]
          },
          "metadata": {},
          "execution_count": 11
        }
      ]
    },
    {
      "cell_type": "code",
      "source": [],
      "metadata": {
        "id": "Po89yQZyNkD6"
      },
      "execution_count": null,
      "outputs": []
    }
  ]
}